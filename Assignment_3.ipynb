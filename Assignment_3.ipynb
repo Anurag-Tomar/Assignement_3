{
  "nbformat": 4,
  "nbformat_minor": 0,
  "metadata": {
    "colab": {
      "name": "Assignment_3.ipynb",
      "provenance": []
    },
    "kernelspec": {
      "name": "python3",
      "display_name": "Python 3"
    },
    "language_info": {
      "name": "python"
    }
  },
  "cells": [
    {
      "cell_type": "code",
      "execution_count": null,
      "metadata": {
        "id": "bdOMOC1HWkI3"
      },
      "outputs": [],
      "source": [
        "#Assignment_3 Ans:"
      ]
    },
    {
      "cell_type": "markdown",
      "source": [
        "1.\tWhy are functions advantageous to have in your programs?\n",
        "\n",
        "\n",
        "Ans: Function enable reuse of code, improve maintainability and scalability. This makes program shorter.\n"
      ],
      "metadata": {
        "id": "QHIdRPk_W9_A"
      }
    },
    {
      "cell_type": "markdown",
      "source": [
        "2.\tWhen does the code in a function run: when it's specified or when it's called?\n",
        "\n",
        "Ans: When it is called.\n",
        "\n"
      ],
      "metadata": {
        "id": "H9pzYFirW-Nw"
      }
    },
    {
      "cell_type": "markdown",
      "source": [
        "3.\tWhat statement creates a function?\n",
        "\n",
        "Ans: A function is defined by using the def keyword, followed by a name of choosing.\n",
        "\n",
        "\n",
        "4.\tWhat is the difference between a function and a function call?\n",
        "\n",
        "Ans: A function call means invoking that function whereas A function is \n",
        "procedure to achieve a particular result.\n",
        "\n",
        "\n",
        "5.\tHow many global scopes are there in a Python program? How many local scopes?\n",
        "\n",
        "Ans: There is only one global score per program in python. At most four active Python scopes—local, enclosing, global, and built-in—depending on where you are in the code.\n",
        "\n",
        "\n",
        "6.\tWhat happens to variables in a local scope when the function call returns?\n",
        "\n",
        "\n",
        "Ans: Its lifetime ends when the function completes when function call returns.\n",
        "\n",
        "7.\tWhat is the concept of a return value? Is it possible to have a return value in an expression?\n",
        "\n",
        "Ans:  A return is a value that a function returns to the calling script or function when it completes its task. One can use that value in a math expression or any other kind of expression in which the value has a logical or coherent meaning.\n",
        "\n",
        "8.\tIf a function does not have a return statement, what is the return value of a call to that function?\n",
        "\n",
        "Ans: It returns None\n",
        "\n",
        "9.\tHow do you make a function variable refer to the global variable?\n",
        "\n",
        "Ans: Use the global keyword to declare which variable is a global.\n",
        "\n",
        "\n",
        "10.\tWhat is the data type of None?\n",
        "\n",
        "Ans: It is a data type of the class NoneType object\n",
        "\n",
        "\n",
        "11.\tWhat does the sentence import areallyourpetsnamederic do?\n",
        "\n",
        "Ans: hat import statement imports a module named areallyourpetsnamederic.\n",
        "\n",
        "\n",
        "12.\tIf you had a bacon() feature in a spam module, what would you call it after importing spam?\n",
        "\n",
        "Ans: This function can be called with spam. bacon().\n",
        "\n",
        "\n",
        "13.\tWhat can you do to save a programme from crashing if it encounters an error?\n",
        "\n",
        "Ans:Error handling can be used to notify the user of why the error occurred and gracefully exit the process that caused the error.\n",
        "\n",
        "       \n",
        "14.\tWhat is the purpose of the try clause? What is the purpose of the \n",
        "except clause?\n",
        "\n",
        "Ans: The try block is used to check some code for errors i.e the code inside the try block will execute when there is no error in the program. Whereas the code inside the except block will execute whenever the program encounters some error in the preceding try block.\n",
        "\n"
      ],
      "metadata": {
        "id": "QKsxBapRW-0I"
      }
    },
    {
      "cell_type": "markdown",
      "source": [
        ""
      ],
      "metadata": {
        "id": "v8GEAgn0W-3g"
      }
    },
    {
      "cell_type": "markdown",
      "source": [
        ""
      ],
      "metadata": {
        "id": "LVlZEah9W-86"
      }
    },
    {
      "cell_type": "markdown",
      "source": [
        ""
      ],
      "metadata": {
        "id": "7LNRwrjUW_Qi"
      }
    },
    {
      "cell_type": "markdown",
      "source": [
        ""
      ],
      "metadata": {
        "id": "MTebQ87wW_UG"
      }
    },
    {
      "cell_type": "markdown",
      "source": [
        ""
      ],
      "metadata": {
        "id": "4JSPUXkVW_j8"
      }
    }
  ]
}